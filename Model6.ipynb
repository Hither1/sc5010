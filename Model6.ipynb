{
 "cells": [
  {
   "cell_type": "markdown",
   "id": "00813a99",
   "metadata": {},
   "source": [
    "### Model 6. Seasonal autoregressive integraded moving average model (SARIMA)\n",
    "\n",
    "SARIMA(p, d, q)(P, D, Q, s) is able to model non-stationary model. It is actually the combination of several component models which are introduced breifly below.\n",
    "\n",
    "1. Seasonality S(P, D, Q, s): s is simply the season's length. Definitions of P, Q are similar to those of p and q below, but for the seasonal component.\n",
    "\n",
    "2. Autoregressive model AR(p): This is basically a regression of the time series onto itself. Here, we assume that the current values depends on \n",
    "\n",
    "3. Order of Integration I(d): Parameter d is the difference between \n",
    "\n",
    "4. Moving Average MA(q): Parameter q is the biggest lag after which other lags are not significant on the autocorrelation plot"
   ]
  },
  {
   "cell_type": "markdown",
   "id": "28929ca6",
   "metadata": {},
   "source": [
    "#### Stationarity\n",
    "\n",
    "A time series is said to be stationary if its statistical properties (constant mean, variance) do not change over time.\n",
    "\n",
    "A stationary time series is ideal because it is easier to model. However, stock price is frequently not stationary as we often see a growing/declining trend or its variance is changing under different economic contexts.\n",
    "\n",
    "Dickey-Fuller test is often used to test if a time series is stationary. The null hypothesis of the test is that there exists a unit root."
   ]
  },
  {
   "cell_type": "code",
   "execution_count": 1,
   "id": "6b45e213",
   "metadata": {},
   "outputs": [],
   "source": [
    "import pandas as pd\n",
    "GOOGL = pd.read_csv('data/GOOGL.csv')"
   ]
  },
  {
   "cell_type": "code",
   "execution_count": 2,
   "id": "7d7b0bb9",
   "metadata": {},
   "outputs": [],
   "source": [
    "from tqdm import tqdm_notebook\n",
    "from itertools import product\n",
    "import statsmodels.api as sm\n",
    "import warnings                                  # do not disturbe mode\n",
    "warnings.filterwarnings('ignore')"
   ]
  },
  {
   "cell_type": "markdown",
   "id": "d6b0019b",
   "metadata": {},
   "source": []
  },
  {
   "cell_type": "code",
   "execution_count": 3,
   "id": "5cdc4b4a",
   "metadata": {},
   "outputs": [
    {
     "data": {
      "text/plain": [
       "625"
      ]
     },
     "execution_count": 3,
     "metadata": {},
     "output_type": "execute_result"
    }
   ],
   "source": [
    "#Set initial values and some bounds\n",
    "ps = range(0, 5)\n",
    "d = 1\n",
    "qs = range(0, 5)\n",
    "Ps = range(0, 5)\n",
    "D = 1\n",
    "Qs = range(0, 5)\n",
    "s = 5\n",
    "\n",
    "#Create a list with all possible combinations of parameters\n",
    "parameters = product(ps, qs, Ps, Qs)\n",
    "parameters_list = list(parameters)\n",
    "len(parameters_list)"
   ]
  },
  {
   "cell_type": "markdown",
   "id": "3df0237a",
   "metadata": {},
   "source": [
    "#### Akaike Information Criterion (AIC)\n",
    "AIC is a method for evaluating how well a model fits the data it was generated from. \n",
    "In statistics, AIC is used to compare different possible models and determine which one is the best fit for the data.\n",
    "\n",
    "AIC is calculated from the number of independent variables used to build the model and the maximum likelihood estimate of the model.\n",
    "\n",
    "The best-fit model according to AIC is the one that explains the greatest amount of variation using the fewest possible independent variables."
   ]
  },
  {
   "cell_type": "code",
   "execution_count": 4,
   "id": "cb11cf62",
   "metadata": {},
   "outputs": [
    {
     "data": {
      "application/vnd.jupyter.widget-view+json": {
       "model_id": "819d865f414f4a69b718cf8ba56b0dc3",
       "version_major": 2,
       "version_minor": 0
      },
      "text/plain": [
       "  0%|          | 0/625 [00:00<?, ?it/s]"
      ]
     },
     "metadata": {},
     "output_type": "display_data"
    }
   ],
   "source": [
    "def optimize_SARIMA(parameters_list, d, D, s):\n",
    "    \"\"\"\n",
    "        Return dataframe with parameters and corresponding AIC\n",
    "        \n",
    "        parameters_list - list with (p, q, P, Q) tuples\n",
    "        d - integration order\n",
    "        D - seasonal integration order\n",
    "        s - length of season\n",
    "    \"\"\"\n",
    "    \n",
    "    results = []\n",
    "    best_aic = float('inf')\n",
    "    \n",
    "    for param in tqdm_notebook(parameters_list):\n",
    "        try: model = sm.tsa.statespace.SARIMAX(GOOGL['4. close'], order=(param[0], d, param[1]),\n",
    "                                               seasonal_order=(param[2], D, param[3], s)).fit(disp=-1)\n",
    "        except:\n",
    "            continue\n",
    "            \n",
    "        aic = model.aic\n",
    "        \n",
    "        #Save best model, AIC and parameters\n",
    "        if aic < best_aic:\n",
    "            best_model = model\n",
    "            best_aic = aic\n",
    "            best_param = param\n",
    "        results.append([param, model.aic])\n",
    "        \n",
    "    result_table = pd.DataFrame(results)\n",
    "    result_table.columns = ['parameters', 'aic']\n",
    "#I deleted a few lines here from the original codes so error does not occur when running\n",
    "    \n",
    "    return result_table\n",
    "\n",
    "result_table = optimize_SARIMA(parameters_list, d, D, s)"
   ]
  },
  {
   "cell_type": "code",
   "execution_count": 7,
   "id": "2ee2dc91",
   "metadata": {
    "scrolled": true
   },
   "outputs": [
    {
     "name": "stdout",
     "output_type": "stream",
     "text": [
      "       parameters          aic\n",
      "0    (0, 0, 0, 0)  1070.701731\n",
      "1    (0, 0, 0, 1)  1025.517289\n",
      "2    (0, 0, 0, 2)  1027.193851\n",
      "3    (0, 0, 0, 3)  1028.370733\n",
      "4    (0, 0, 0, 4)  1028.960428\n",
      "..            ...          ...\n",
      "620  (4, 4, 4, 0)  1040.510382\n",
      "621  (4, 4, 4, 1)  1051.534158\n",
      "622  (4, 4, 4, 2)  1044.758986\n",
      "623  (4, 4, 4, 3)  1044.132352\n",
      "624  (4, 4, 4, 4)  1049.810910\n",
      "\n",
      "[625 rows x 2 columns]\n",
      "                                     SARIMAX Results                                     \n",
      "=========================================================================================\n",
      "Dep. Variable:                          4. close   No. Observations:                  100\n",
      "Model:             SARIMAX(0, 1, 0)x(0, 1, 0, 5)   Log Likelihood                -534.351\n",
      "Date:                           Thu, 31 Mar 2022   AIC                           1070.702\n",
      "Time:                                   23:10:24   BIC                           1073.245\n",
      "Sample:                                        0   HQIC                          1071.729\n",
      "                                           - 100                                         \n",
      "Covariance Type:                             opg                                         \n",
      "==============================================================================\n",
      "                 coef    std err          z      P>|z|      [0.025      0.975]\n",
      "------------------------------------------------------------------------------\n",
      "sigma2      5070.4862    800.702      6.333      0.000    3501.140    6639.833\n",
      "===================================================================================\n",
      "Ljung-Box (L1) (Q):                   1.05   Jarque-Bera (JB):                 0.58\n",
      "Prob(Q):                              0.30   Prob(JB):                         0.75\n",
      "Heteroskedasticity (H):               0.75   Skew:                             0.12\n",
      "Prob(H) (two-sided):                  0.44   Kurtosis:                         2.70\n",
      "===================================================================================\n",
      "\n",
      "Warnings:\n",
      "[1] Covariance matrix calculated using the outer product of gradients (complex-step).\n"
     ]
    }
   ],
   "source": [
    "#Set parameters that give the lowest AIC (Akaike Information Criteria)\n",
    "print(result_table)\n",
    "p, q, P, Q = result_table.parameters[0]\n",
    "\n",
    "best_model = sm.tsa.statespace.SARIMAX(GOOGL['4. close'], order=(p, d, q),\n",
    "                                       seasonal_order=(P, D, Q, s)).fit(disp=-1)\n",
    "\n",
    "print(best_model.summary())"
   ]
  },
  {
   "cell_type": "code",
   "execution_count": null,
   "id": "f8ea095e",
   "metadata": {},
   "outputs": [],
   "source": []
  }
 ],
 "metadata": {
  "kernelspec": {
   "display_name": "Python 3",
   "language": "python",
   "name": "python3"
  },
  "language_info": {
   "codemirror_mode": {
    "name": "ipython",
    "version": 3
   },
   "file_extension": ".py",
   "mimetype": "text/x-python",
   "name": "python",
   "nbconvert_exporter": "python",
   "pygments_lexer": "ipython3",
   "version": "3.8.8"
  }
 },
 "nbformat": 4,
 "nbformat_minor": 5
}
