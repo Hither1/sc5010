{
 "cells": [
  {
   "cell_type": "markdown",
   "id": "00813a99",
   "metadata": {},
   "source": [
    "### Model 6. Seasonal autoregressive integraded moving average model (SARIMA)\n",
    "\n",
    "SARIMA($p$, $d$, $q$)($P$, $D$, $Q$, $s$) is able to model non-stationary model. It is actually the combination of several component models which are introduced breifly below.\n",
    "\n",
    "1. Seasonality S($P$, $D$, $Q$, $s$): $s$ is simply the season's length. Definitions of $P$, $Q$ are similar to those of p and q below, but for the seasonal component. $D$ is the order of seasonal integration representing the number of differences required to remove seasonality from the series.\n",
    "\n",
    "2. Autoregressive model AR($p$): This is basically a regression of the time series onto itself. Here, we assume that the current values depends on its previous values with some lag.\n",
    "\n",
    "3. Order of Integration I($d$): Parameter $d$ is the number of differences required to make the series stationary.\n",
    "\n",
    "4. Moving Average MA($q$): Parameter $q$ is the biggest lag after which other lags are not significant on the autocorrelation plot"
   ]
  },
  {
   "cell_type": "markdown",
   "id": "28929ca6",
   "metadata": {},
   "source": [
    "#### Stationarity\n",
    "\n",
    "A time series is said to be stationary if its statistical properties (constant mean, variance) do not change over time.\n",
    "\n",
    "A stationary time series is ideal because it is easier to model. However, stock price is frequently not stationary as we often see a growing/declining trend or its variance is changing under different economic contexts."
   ]
  },
  {
   "cell_type": "code",
   "execution_count": 1,
   "id": "6b45e213",
   "metadata": {},
   "outputs": [],
   "source": [
    "import pandas as pd\n",
    "GOOGL = pd.read_csv('data/GOOGL.csv')"
   ]
  },
  {
   "cell_type": "code",
   "execution_count": 2,
   "id": "7d7b0bb9",
   "metadata": {},
   "outputs": [],
   "source": [
    "from tqdm import tqdm_notebook\n",
    "from itertools import product\n",
    "import statsmodels.api as sm\n",
    "import warnings                                  # do not disturbe mode\n",
    "warnings.filterwarnings('ignore')"
   ]
  },
  {
   "cell_type": "markdown",
   "id": "00c3f4b6",
   "metadata": {},
   "source": [
    "In below, we fix the parameters $d, D, s$"
   ]
  },
  {
   "cell_type": "code",
   "execution_count": 3,
   "id": "5cdc4b4a",
   "metadata": {
    "scrolled": true
   },
   "outputs": [
    {
     "data": {
      "text/plain": [
       "175"
      ]
     },
     "execution_count": 3,
     "metadata": {},
     "output_type": "execute_result"
    }
   ],
   "source": [
    "#Set initial values and some bounds\n",
    "ps = range(18, 19)\n",
    "d = 1\n",
    "qs = range(0, 7)\n",
    "Ps = range(0, 5)\n",
    "D = 1\n",
    "Qs = range(0, 5)\n",
    "s = 5\n",
    "\n",
    "#Create a list with all possible combinations of parameters\n",
    "parameters = product(ps, qs, Ps, Qs)\n",
    "parameters_list = list(parameters)\n",
    "len(parameters_list)"
   ]
  },
  {
   "cell_type": "markdown",
   "id": "3df0237a",
   "metadata": {},
   "source": [
    "#### Akaike Information Criterion (AIC)\n",
    "AIC is a method for evaluating how well a model fits the data it was generated from. \n",
    "In statistics, AIC is used to compare different possible models and determine which one is the best fit for the data.\n",
    "\n",
    "AIC is calculated from the number of independent variables used to build the model and the maximum likelihood estimate of the model.\n",
    "\n",
    "The best-fit model according to AIC is the one that explains the greatest amount of variation using the fewest possible independent variables."
   ]
  },
  {
   "cell_type": "code",
   "execution_count": 4,
   "id": "cb11cf62",
   "metadata": {},
   "outputs": [
    {
     "data": {
      "application/vnd.jupyter.widget-view+json": {
       "model_id": "5f323a4ca70645d99c57593cf03a2bf5",
       "version_major": 2,
       "version_minor": 0
      },
      "text/plain": [
       "  0%|          | 0/175 [00:00<?, ?it/s]"
      ]
     },
     "metadata": {},
     "output_type": "display_data"
    }
   ],
   "source": [
    "def optimize_SARIMA(parameters_list, d, D, s):\n",
    "    \"\"\"\n",
    "        Return dataframe with parameters and corresponding AIC\n",
    "        \n",
    "        parameters_list - list with (p, q, P, Q) tuples\n",
    "        d - integration order\n",
    "        D - seasonal integration order\n",
    "        s - length of season\n",
    "    \"\"\"\n",
    "    \n",
    "    results = []\n",
    "    best_aic = float('inf')\n",
    "    \n",
    "    for param in tqdm_notebook(parameters_list):\n",
    "        try: model = sm.tsa.statespace.SARIMAX(GOOGL['4. close'][:80], order=(param[0], d, param[1]),\n",
    "                                               seasonal_order=(param[2], D, param[3], s)).fit(disp=-1)\n",
    "        except:\n",
    "            continue\n",
    "            \n",
    "        aic = model.aic\n",
    "        \n",
    "        #Save best model, AIC and parameters\n",
    "        if aic < best_aic:\n",
    "            best_model = model\n",
    "            best_aic = aic\n",
    "            best_param = param\n",
    "        results.append([param, model.aic])\n",
    "        \n",
    "    result_table = pd.DataFrame(results)\n",
    "    result_table.columns = ['parameters', 'aic']\n",
    "    #Sort in ascending order, lower AIC is better\n",
    "    result_table = result_table.sort_values(by='aic', ascending=True).reset_index(drop=True)\n",
    "    \n",
    "    return result_table\n",
    "\n",
    "result_table = optimize_SARIMA(parameters_list, d, D, s)"
   ]
  },
  {
   "cell_type": "code",
   "execution_count": 5,
   "id": "2ee2dc91",
   "metadata": {
    "scrolled": true
   },
   "outputs": [
    {
     "name": "stdout",
     "output_type": "stream",
     "text": [
      "       parameters         aic\n",
      "0   (18, 1, 0, 0)  839.681403\n",
      "1   (18, 0, 0, 1)  839.807644\n",
      "2   (18, 0, 0, 2)  841.369671\n",
      "3   (18, 0, 0, 0)  841.402971\n",
      "4   (18, 2, 0, 0)  841.479647\n",
      "5   (18, 1, 0, 1)  841.693986\n",
      "6   (18, 3, 0, 0)  841.825167\n",
      "7   (18, 0, 0, 4)  842.586170\n",
      "8   (18, 1, 0, 2)  842.980111\n",
      "9   (18, 2, 0, 1)  843.102655\n",
      "10  (18, 2, 0, 2)  844.509162\n",
      "11  (18, 0, 0, 3)  844.590829\n",
      "12  (18, 1, 0, 4)  844.746360\n",
      "13  (18, 3, 0, 1)  844.965288\n",
      "14  (18, 6, 0, 0)  845.284313\n",
      "15  (18, 3, 0, 2)  845.465032\n",
      "16  (18, 4, 0, 1)  845.898542\n",
      "17  (18, 4, 0, 0)  846.340350\n",
      "18  (18, 1, 0, 3)  846.565996\n",
      "19  (18, 2, 0, 3)  846.613844\n",
      "20  (18, 2, 0, 4)  846.992711\n",
      "21  (18, 5, 0, 0)  847.118276\n",
      "22  (18, 4, 0, 2)  847.711012\n",
      "23  (18, 3, 0, 3)  848.523452\n",
      "24  (18, 3, 0, 4)  848.859689\n",
      "25  (18, 4, 0, 3)  849.304349\n",
      "26  (18, 4, 0, 4)  851.268436\n",
      "                                      SARIMAX Results                                      \n",
      "===========================================================================================\n",
      "Dep. Variable:                            4. close   No. Observations:                   80\n",
      "Model:             SARIMAX(18, 1, 1)x(0, 1, [], 5)   Log Likelihood                -399.841\n",
      "Date:                             Sat, 23 Apr 2022   AIC                            839.681\n",
      "Time:                                     19:51:45   BIC                            885.763\n",
      "Sample:                                          0   HQIC                           858.064\n",
      "                                              - 80                                         \n",
      "Covariance Type:                               opg                                         \n",
      "==============================================================================\n",
      "                 coef    std err          z      P>|z|      [0.025      0.975]\n",
      "------------------------------------------------------------------------------\n",
      "ar.L1          0.9284      0.177      5.254      0.000       0.582       1.275\n",
      "ar.L2          0.1506      0.185      0.815      0.415      -0.211       0.513\n",
      "ar.L3         -0.2478      0.228     -1.089      0.276      -0.694       0.198\n",
      "ar.L4         -0.0655      0.226     -0.290      0.772      -0.509       0.378\n",
      "ar.L5         -0.5170      0.215     -2.404      0.016      -0.939      -0.095\n",
      "ar.L6          0.4428      0.229      1.937      0.053      -0.005       0.891\n",
      "ar.L7          0.1558      0.235      0.663      0.507      -0.305       0.616\n",
      "ar.L8         -0.1513      0.295     -0.513      0.608      -0.729       0.427\n",
      "ar.L9          0.0549      0.243      0.226      0.821      -0.421       0.531\n",
      "ar.L10        -0.5919      0.212     -2.788      0.005      -1.008      -0.176\n",
      "ar.L11         0.4045      0.240      1.686      0.092      -0.066       0.875\n",
      "ar.L12         0.3218      0.226      1.423      0.155      -0.121       0.765\n",
      "ar.L13        -0.3025      0.237     -1.276      0.202      -0.767       0.162\n",
      "ar.L14        -0.1082      0.229     -0.472      0.637      -0.558       0.341\n",
      "ar.L15        -0.0628      0.178     -0.354      0.724      -0.411       0.285\n",
      "ar.L16         0.2383      0.206      1.158      0.247      -0.165       0.642\n",
      "ar.L17        -0.0578      0.203     -0.285      0.776      -0.455       0.340\n",
      "ar.L18        -0.1189      0.198     -0.599      0.549      -0.508       0.270\n",
      "ma.L1         -0.9737      0.156     -6.241      0.000      -1.280      -0.668\n",
      "sigma2      2830.5649    808.383      3.502      0.000    1246.162    4414.967\n",
      "===================================================================================\n",
      "Ljung-Box (L1) (Q):                   0.15   Jarque-Bera (JB):                 0.53\n",
      "Prob(Q):                              0.70   Prob(JB):                         0.77\n",
      "Heteroskedasticity (H):               1.17   Skew:                            -0.04\n",
      "Prob(H) (two-sided):                  0.70   Kurtosis:                         2.59\n",
      "===================================================================================\n",
      "\n",
      "Warnings:\n",
      "[1] Covariance matrix calculated using the outer product of gradients (complex-step).\n"
     ]
    }
   ],
   "source": [
    "#Set parameters that give the lowest AIC (Akaike Information Criteria)\n",
    "print(result_table)\n",
    "p, q, P, Q = result_table.parameters[0]\n",
    "\n",
    "best_model = sm.tsa.statespace.SARIMAX(GOOGL['4. close'][:80], order=(p, d, q),\n",
    "                                       seasonal_order=(P, D, Q, s)).fit(disp=-1)\n",
    "\n",
    "print(best_model.summary())"
   ]
  },
  {
   "cell_type": "markdown",
   "id": "7df899ab",
   "metadata": {},
   "source": [
    "In the following, we calculate the MSE in order to compare SARIMA with other models."
   ]
  },
  {
   "cell_type": "code",
   "execution_count": 6,
   "id": "f8ea095e",
   "metadata": {},
   "outputs": [
    {
     "data": {
      "text/plain": [
       "1866.2268436478691"
      ]
     },
     "execution_count": 6,
     "metadata": {},
     "output_type": "execute_result"
    }
   ],
   "source": [
    "from sklearn.metrics import mean_squared_error\n",
    "mean_squared_error(\n",
    "    best_model.predict(start=81, end=100), \n",
    "    GOOGL['4. close'][-20:])"
   ]
  },
  {
   "cell_type": "code",
   "execution_count": 7,
   "id": "751fb69d",
   "metadata": {},
   "outputs": [
    {
     "data": {
      "image/png": "[encoded data removed]",
      "text/plain": [
       "<Figure size 1224x576 with 1 Axes>"
      ]
     },
     "metadata": {
      "needs_background": "light"
     },
     "output_type": "display_data"
    }
   ],
   "source": [
    "import matplotlib.pyplot as plt\n",
    "def plot(series_true, series_pred):\n",
    "    plt.figure(figsize=(17, 8))\n",
    "    plt.plot(series_true.values, label = \"Actual\")\n",
    "    plt.plot(series_pred.values, \"c\", label = \"Pred\")\n",
    "    plt.legend(loc=\"best\")\n",
    "    plt.axis('tight')\n",
    "    plt.title(\"SARIMA\")\n",
    "    plt.grid(True);\n",
    "plot(GOOGL['4. close'][-20:], best_model.predict(start=81, end=100))"
   ]
  },
  {
   "cell_type": "code",
   "execution_count": 8,
   "id": "117bb1be",
   "metadata": {},
   "outputs": [
    {
     "name": "stdout",
     "output_type": "stream",
     "text": [
      "0         0.000000\n",
      "1      2834.745463\n",
      "2      2832.274984\n",
      "3      2765.178604\n",
      "4      2797.149377\n",
      "          ...     \n",
      "96     2925.340819\n",
      "97     2936.952559\n",
      "98     2976.246783\n",
      "99     2996.482431\n",
      "100    2988.150176\n",
      "Name: predicted_mean, Length: 101, dtype: float64\n"
     ]
    }
   ],
   "source": [
    "print(best_model.predict(start=0, end=100))"
   ]
  },
  {
   "cell_type": "code",
   "execution_count": null,
   "id": "ed4621d8",
   "metadata": {},
   "outputs": [],
   "source": []
  }
 ],
 "metadata": {
  "kernelspec": {
   "display_name": "Python 3",
   "language": "python",
   "name": "python3"
  },
  "language_info": {
   "codemirror_mode": {
    "name": "ipython",
    "version": 3
   },
   "file_extension": ".py",
   "mimetype": "text/x-python",
   "name": "python",
   "nbconvert_exporter": "python",
   "pygments_lexer": "ipython3",
   "version": "3.8.8"
  }
 },
 "nbformat": 4,
 "nbformat_minor": 5
}
