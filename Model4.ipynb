{
 "cells": [
  {
   "cell_type": "markdown",
   "id": "3682f375",
   "metadata": {},
   "source": [
    "### Model 5. Seasonal autoregressive integraded moving average model (SARIMA)\n",
    "\n",
    "SARIMA is able to model . It is actually the combination of several component models which are introduced breifly below.\n",
    "\n",
    "1. Autoregressive model **AR (p)**\n",
    "\n",
    "2. "
   ]
  },
  {
   "cell_type": "markdown",
   "id": "c901503f",
   "metadata": {},
   "source": [
    "#### Stationarity\n",
    "\n",
    "A time series is said to be stationary if its statistical properties (constant mean, variance) do not change over time.\n",
    "\n",
    "A stationary time series is ideal because it is easier to model. However, stock price is frequently not stationary as we often see a growing/declining trend or its variance is changing under different economic contexts.\n",
    "\n",
    "Dickey-Fuller test is often used to test if a time series is stationary. The null hypothesis of the test is that there exists a unit root."
   ]
  },
  {
   "cell_type": "code",
   "execution_count": null,
   "id": "d9bf55de",
   "metadata": {},
   "outputs": [],
   "source": [
    "from tqdm import tqdm_notebook\n",
    "from itertools import product\n",
    "import statsmodels.api as sm\n",
    "import warnings                                  # do not disturbe mode\n",
    "warnings.filterwarnings('ignore')"
   ]
  },
  {
   "cell_type": "code",
   "execution_count": null,
   "id": "d5bd940e",
   "metadata": {},
   "outputs": [],
   "source": [
    "#Set initial values and some bounds\n",
    "ps = range(0, 5)\n",
    "d = 1\n",
    "qs = range(0, 5)\n",
    "Ps = range(0, 5)\n",
    "D = 1\n",
    "Qs = range(0, 5)\n",
    "s = 5\n",
    "\n",
    "#Create a list with all possible combinations of parameters\n",
    "parameters = product(ps, qs, Ps, Qs)\n",
    "parameters_list = list(parameters)\n",
    "len(parameters_list)"
   ]
  },
  {
   "cell_type": "code",
   "execution_count": null,
   "id": "6edaabf7",
   "metadata": {},
   "outputs": [],
   "source": [
    "def optimize_SARIMA(parameters_list, d, D, s):\n",
    "    \"\"\"\n",
    "        Return dataframe with parameters and corresponding AIC\n",
    "        \n",
    "        parameters_list - list with (p, q, P, Q) tuples\n",
    "        d - integration order\n",
    "        D - seasonal integration order\n",
    "        s - length of season\n",
    "    \"\"\"\n",
    "    \n",
    "    results = []\n",
    "    best_aic = float('inf')\n",
    "    \n",
    "    for param in tqdm_notebook(parameters_list):\n",
    "        try: model = sm.tsa.statespace.SARIMAX(GOOGL['4. close'], order=(param[0], d, param[1]),\n",
    "                                               seasonal_order=(param[2], D, param[3], s)).fit(disp=-1)\n",
    "        except:\n",
    "            continue\n",
    "            \n",
    "        aic = model.aic\n",
    "        \n",
    "        #Save best model, AIC and parameters\n",
    "        if aic < best_aic:\n",
    "            best_model = model\n",
    "            best_aic = aic\n",
    "            best_param = param\n",
    "        results.append([param, model.aic])\n",
    "        \n",
    "    result_table = pd.DataFrame(results)\n",
    "#I deleted a few lines here from the original codes so error does not occur when running\n",
    "    \n",
    "    return result_table\n",
    "\n",
    "result_table = optimize_SARIMA(parameters_list, d, D, s)"
   ]
  },
  {
   "cell_type": "code",
   "execution_count": null,
   "id": "ed8d11e2",
   "metadata": {},
   "outputs": [],
   "source": [
    "#Set parameters that give the lowest AIC (Akaike Information Criteria)\n",
    "print(result_table)\n",
    "p, q, P, Q = result_table.parameters[0]\n",
    "\n",
    "best_model = sm.tsa.statespace.SARIMAX(data.CLOSE, order=(p, d, q),\n",
    "                                       seasonal_order=(P, D, Q, s)).fit(disp=-1)\n",
    "\n",
    "print(best_model.summary())"
   ]
  }
 ],
 "metadata": {
  "kernelspec": {
   "display_name": "Python 3",
   "language": "python",
   "name": "python3"
  },
  "language_info": {
   "codemirror_mode": {
    "name": "ipython",
    "version": 3
   },
   "file_extension": ".py",
   "mimetype": "text/x-python",
   "name": "python",
   "nbconvert_exporter": "python",
   "pygments_lexer": "ipython3",
   "version": "3.8.8"
  }
 },
 "nbformat": 4,
 "nbformat_minor": 5
}
