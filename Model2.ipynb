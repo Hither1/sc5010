{
 "cells": [
  {
   "cell_type": "code",
   "execution_count": null,
   "id": "b45271c7",
   "metadata": {},
   "outputs": [],
   "source": [
    "# Basic Libraries\n",
    "import numpy as np\n",
    "import pandas as pd\n",
    "import seaborn as sb\n",
    "import matplotlib.pyplot as plt # we only need pyplot\n",
    "sb.set() # set the default Seaborn style for graphics"
   ]
  },
  {
   "cell_type": "markdown",
   "id": "a5bb0a00",
   "metadata": {},
   "source": [
    "### Model 2. S"
   ]
  },
  {
   "cell_type": "code",
   "execution_count": null,
   "id": "2ba871ed",
   "metadata": {},
   "outputs": [],
   "source": [
    "GOOGL = pd.read_csv('data/GOOGL.csv')"
   ]
  },
  {
   "cell_type": "code",
   "execution_count": null,
   "id": "15c0df51",
   "metadata": {},
   "outputs": [],
   "source": [
    "from sklearn.tree import DecisionTreeRegressor"
   ]
  },
  {
   "cell_type": "code",
   "execution_count": null,
   "id": "4fc66cc8",
   "metadata": {},
   "outputs": [],
   "source": []
  }
 ],
 "metadata": {
  "kernelspec": {
   "display_name": "Python 3",
   "language": "python",
   "name": "python3"
  },
  "language_info": {
   "codemirror_mode": {
    "name": "ipython",
    "version": 3
   },
   "file_extension": ".py",
   "mimetype": "text/x-python",
   "name": "python",
   "nbconvert_exporter": "python",
   "pygments_lexer": "ipython3",
   "version": "3.8.8"
  }
 },
 "nbformat": 4,
 "nbformat_minor": 5
}
