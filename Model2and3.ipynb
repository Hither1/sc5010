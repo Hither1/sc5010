{
 "cells": [
  {
   "cell_type": "code",
   "execution_count": null,
   "id": "53a1a552",
   "metadata": {},
   "outputs": [],
   "source": []
  },
  {
   "cell_type": "markdown",
   "id": "b0809868",
   "metadata": {},
   "source": [
    "### Model 2. Moving Average\n",
    "Moving Average is a very simple model for Time Series modelling."
   ]
  },
  {
   "cell_type": "code",
   "execution_count": null,
   "id": "bb6f5bcf",
   "metadata": {},
   "outputs": [],
   "source": [
    "def plot_moving_average(series, window, plot_intervals=False, scale=1.96):\n",
    "\n",
    "    rolling_mean = series.rolling(window=window).mean()\n",
    "    \n",
    "    plt.figure(figsize=(17,8))\n",
    "    plt.title('Moving average\\n window size = {}'.format(window))\n",
    "    plt.plot(rolling_mean, 'g', label='Rolling mean trend')\n",
    "    \n",
    "    #Plot confidence intervals for smoothed values\n",
    "    if plot_intervals:\n",
    "        mae = mean_absolute_error(series[window:], rolling_mean[window:])\n",
    "        deviation = np.std(series[window:] - rolling_mean[window:])\n",
    "        lower_bound = rolling_mean - (mae + scale * deviation)\n",
    "        upper_bound = rolling_mean + (mae + scale * deviation)\n",
    "        plt.plot(upper_bound, 'r--', label='Upper bound / Lower bound')\n",
    "        plt.plot(lower_bound, 'r--')\n",
    "            \n",
    "    plt.plot(series[window:], label='Actual values')\n",
    "    plt.legend(loc='best')\n",
    "    plt.grid(True)"
   ]
  },
  {
   "cell_type": "code",
   "execution_count": null,
   "id": "0969367e",
   "metadata": {},
   "outputs": [],
   "source": [
    "#Smooth by the previous 5 days (by week)\n",
    "plot_moving_average(GOOGL['4. close'], 5)"
   ]
  },
  {
   "cell_type": "code",
   "execution_count": null,
   "id": "70fdee1f",
   "metadata": {},
   "outputs": [],
   "source": [
    "#Smooth by the previous month (30 days)\n",
    "plot_moving_average(GOOGL['4. close'], 30)"
   ]
  },
  {
   "cell_type": "code",
   "execution_count": null,
   "id": "45903010",
   "metadata": {},
   "outputs": [],
   "source": [
    "#Smooth by previous quarter (90 days)\n",
    "plot_moving_average(GOOGL['4. close'], 90, plot_intervals=True)"
   ]
  }
 ],
 "metadata": {
  "kernelspec": {
   "display_name": "Python 3",
   "language": "python",
   "name": "python3"
  },
  "language_info": {
   "codemirror_mode": {
    "name": "ipython",
    "version": 3
   },
   "file_extension": ".py",
   "mimetype": "text/x-python",
   "name": "python",
   "nbconvert_exporter": "python",
   "pygments_lexer": "ipython3",
   "version": "3.8.8"
  }
 },
 "nbformat": 4,
 "nbformat_minor": 5
}
