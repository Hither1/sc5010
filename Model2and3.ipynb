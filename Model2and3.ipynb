{
 "cells": [
  {
   "cell_type": "code",
   "execution_count": null,
   "id": "74479fec",
   "metadata": {},
   "outputs": [],
   "source": []
  },
  {
   "cell_type": "markdown",
   "id": "eebbe43b",
   "metadata": {},
   "source": [
    "### Model 2. Moving Average\n",
    "Moving Average is a very simple model for Time Series modelling."
   ]
  },
  {
   "cell_type": "code",
   "execution_count": null,
   "id": "4af1efd7",
   "metadata": {},
   "outputs": [],
   "source": [
    "def plot_moving_average(series, window, plot_intervals=False, scale=1.96):\n",
    "\n",
    "    rolling_mean = series.rolling(window=window).mean()\n",
    "    \n",
    "    plt.figure(figsize=(17,8))\n",
    "    plt.title('Moving average\\n window size = {}'.format(window))\n",
    "    plt.plot(rolling_mean, 'g', label='Rolling mean trend')\n",
    "    \n",
    "    #Plot confidence intervals for smoothed values\n",
    "    if plot_intervals:\n",
    "        mae = mean_absolute_error(series[window:], rolling_mean[window:])\n",
    "        deviation = np.std(series[window:] - rolling_mean[window:])\n",
    "        lower_bound = rolling_mean - (mae + scale * deviation)\n",
    "        upper_bound = rolling_mean + (mae + scale * deviation)\n",
    "        plt.plot(upper_bound, 'r--', label='Upper bound / Lower bound')\n",
    "        plt.plot(lower_bound, 'r--')\n",
    "            \n",
    "    plt.plot(series[window:], label='Actual values')\n",
    "    plt.legend(loc='best')\n",
    "    plt.grid(True)"
   ]
  },
  {
   "cell_type": "code",
   "execution_count": null,
   "id": "45403782",
   "metadata": {},
   "outputs": [],
   "source": [
    "#Smooth by the previous 5 days (by week)\n",
    "plot_moving_average(GOOGL['4. close'], 5)"
   ]
  },
  {
   "cell_type": "code",
   "execution_count": null,
   "id": "8e1d9121",
   "metadata": {},
   "outputs": [],
   "source": [
    "#Smooth by the previous month (30 days)\n",
    "plot_moving_average(GOOGL['4. close'], 30)"
   ]
  },
  {
   "cell_type": "code",
   "execution_count": null,
   "id": "b315abb2",
   "metadata": {},
   "outputs": [],
   "source": [
    "#Smooth by previous quarter (90 days)\n",
    "plot_moving_average(GOOGL['4. close'], 90, plot_intervals=True)"
   ]
  },
  {
   "cell_type": "code",
   "execution_count": null,
   "id": "3bbc2840",
   "metadata": {},
   "outputs": [],
   "source": []
  },
  {
   "cell_type": "code",
   "execution_count": null,
   "id": "fedaeb99",
   "metadata": {},
   "outputs": [],
   "source": [
    "plot_exponential_smoothing(GOOGL['4. close'], [0.05, 0.3])"
   ]
  },
  {
   "cell_type": "code",
   "execution_count": null,
   "id": "38c1935f",
   "metadata": {},
   "outputs": [],
   "source": [
    "### Model 3. Double Exponential Smoothing"
   ]
  },
  {
   "cell_type": "code",
   "execution_count": null,
   "id": "93a8ff36",
   "metadata": {},
   "outputs": [],
   "source": [
    "def double_exponential_smoothing(series, alpha, beta):\n",
    "\n",
    "    result = [series[0]]\n",
    "    for n in range(1, len(series)+1):\n",
    "        if n == 1:\n",
    "            level, trend = series[0], series[1] - series[0]\n",
    "        if n >= len(series): # forecasting\n",
    "            value = result[-1]\n",
    "        else:\n",
    "            value = series[n]\n",
    "        last_level, level = level, alpha * value + (1 - alpha) * (level + trend)\n",
    "        trend = beta * (level - last_level) + (1 - beta) * trend\n",
    "        result.append(level + trend)\n",
    "    return result\n",
    "\n"
   ]
  },
  {
   "cell_type": "code",
   "execution_count": null,
   "id": "b5652783",
   "metadata": {},
   "outputs": [],
   "source": [
    "def plot_double_exponential_smoothing(series, alphas, betas):\n",
    "     \n",
    "    plt.figure(figsize=(17, 8))\n",
    "    for alpha in alphas:\n",
    "        for beta in betas:\n",
    "            plt.plot(double_exponential_smoothing(series, alpha, beta), label=\"Alpha {}, beta {}\".format(alpha, beta))\n",
    "    plt.plot(series.values, label = \"Actual\")\n",
    "    plt.legend(loc=\"best\")\n",
    "    plt.axis('tight')\n",
    "    plt.title(\"Double Exponential Smoothing\")\n",
    "    plt.grid(True)"
   ]
  },
  {
   "cell_type": "code",
   "execution_count": null,
   "id": "c27bbb5d",
   "metadata": {},
   "outputs": [],
   "source": [
    "plot_double_exponential_smoothing(GOOGL['4. close'], alphas=[0.9, 0.02], betas=[0.9, 0.02])"
   ]
  }
 ],
 "metadata": {
  "kernelspec": {
   "display_name": "Python 3",
   "language": "python",
   "name": "python3"
  },
  "language_info": {
   "codemirror_mode": {
    "name": "ipython",
    "version": 3
   },
   "file_extension": ".py",
   "mimetype": "text/x-python",
   "name": "python",
   "nbconvert_exporter": "python",
   "pygments_lexer": "ipython3",
   "version": "3.8.8"
  }
 },
 "nbformat": 4,
 "nbformat_minor": 5
}
