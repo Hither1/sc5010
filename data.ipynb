{
 "cells": [
  {
   "cell_type": "code",
   "execution_count": 1,
   "id": "deae8968",
   "metadata": {},
   "outputs": [],
   "source": [
    "from alpha_vantage.timeseries import TimeSeries\n",
    "API_key = 'DM7Z2MXUAN4MYJEF'\n",
    "ts = TimeSeries(key=API_key, output_format='pandas')"
   ]
  },
  {
   "cell_type": "code",
   "execution_count": 2,
   "id": "bdc9b933",
   "metadata": {},
   "outputs": [],
   "source": [
    "import pandas as pd"
   ]
  },
  {
   "cell_type": "code",
   "execution_count": 3,
   "id": "bc747e9d",
   "metadata": {},
   "outputs": [],
   "source": [
    "def prepareDataframe(data):\n",
    "    data[\"4. close\"] = pd.to_numeric(data[\"4. close\"],errors = 'coerce')\n",
    "    data[\"5. volume\"] = pd.to_numeric(data[\"5. volume\"],errors = 'coerce')\n",
    "    data.drop(columns=[\"1. open\", '2. high', '3. low'], inplace=True)\n",
    "    return data"
   ]
  },
  {
   "cell_type": "code",
   "execution_count": 4,
   "id": "416781d6",
   "metadata": {},
   "outputs": [],
   "source": [
    "GOOGL = prepareDataframe(ts.get_daily('GOOGL')[0])\n",
    "AMZN = prepareDataframe(ts.get_daily('AMZN')[0]) # Amazon\n",
    "AAPL = prepareDataframe(ts.get_daily('AAPL')[0])\n",
    "META = prepareDataframe(ts.get_daily('FB')[0])\n",
    "MSFT = prepareDataframe(ts.get_daily('MSFT')[0]) # Microsoft\n",
    "GOOGL.to_csv('GOOGL.csv')\n",
    "AMZN.to_csv('AMZN.csv')\n",
    "AAPL.to_csv('AAPL.csv')\n",
    "META.to_csv('META.csv')\n",
    "MSFT.to_csv('MSFT.csv')"
   ]
  },
  {
   "cell_type": "code",
   "execution_count": null,
   "id": "c6c36163",
   "metadata": {},
   "outputs": [],
   "source": [
    "CVS = prepareDataframe(ts.get_daily('CVS')[0]) # CVS Health Corp.\n",
    "UNH = prepareDataframe(ts.get_daily('UNH')[0]) # UnitedHealth Group Inc.\n",
    "MCK = prepareDataframe(ts.get_daily('MCK')[0]) # McKesson Corp. \n",
    "ABC = prepareDataframe(ts.get_daily('ABC')[0]) # AmerisourceBergen Corp. \n",
    "CI = prepareDataframe(ts.get_daily('CI')[0]) # Cigna Corp. \n",
    "CVS.to_csv('CVS.csv')\n",
    "UNH.to_csv('UNH.csv')\n",
    "MCK.to_csv('MCK.csv')\n",
    "ABC.to_csv('ABC.csv')\n",
    "CI.to_csv('CI.csv')"
   ]
  }
 ],
 "metadata": {
  "kernelspec": {
   "display_name": "Python 3",
   "language": "python",
   "name": "python3"
  },
  "language_info": {
   "codemirror_mode": {
    "name": "ipython",
    "version": 3
   },
   "file_extension": ".py",
   "mimetype": "text/x-python",
   "name": "python",
   "nbconvert_exporter": "python",
   "pygments_lexer": "ipython3",
   "version": "3.8.8"
  }
 },
 "nbformat": 4,
 "nbformat_minor": 5
}
